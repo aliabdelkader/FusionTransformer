{
 "cells": [
  {
   "cell_type": "code",
   "execution_count": 1,
   "id": "fab72950-8a38-4171-bc20-9299edb076d3",
   "metadata": {},
   "outputs": [
    {
     "name": "stdout",
     "output_type": "stream",
     "text": [
      "Obtaining file:///home/user/FusionTransformer\n",
      "Requirement already satisfied: yacs in /opt/conda/lib/python3.8/site-packages (from FusionTransformer==0.0.1) (0.1.8)\n",
      "Requirement already satisfied: nuscenes-devkit in /opt/conda/lib/python3.8/site-packages (from FusionTransformer==0.0.1) (1.1.5)\n",
      "Requirement already satisfied: tabulate in /opt/conda/lib/python3.8/site-packages (from FusionTransformer==0.0.1) (0.8.9)\n",
      "Requirement already satisfied: timm in /opt/conda/lib/python3.8/site-packages (from FusionTransformer==0.0.1) (0.4.9)\n",
      "Requirement already satisfied: dataclasses in /opt/conda/lib/python3.8/site-packages (from FusionTransformer==0.0.1) (0.6)\n",
      "Requirement already satisfied: tensorboard in /opt/conda/lib/python3.8/site-packages (from FusionTransformer==0.0.1) (2.5.0)\n",
      "Requirement already satisfied: PyYAML in /opt/conda/lib/python3.8/site-packages (from FusionTransformer==0.0.1) (5.3.1)\n",
      "Requirement already satisfied: tqdm in /opt/conda/lib/python3.8/site-packages (from FusionTransformer==0.0.1) (4.51.0)\n",
      "Requirement already satisfied: ipdb in /opt/conda/lib/python3.8/site-packages (from FusionTransformer==0.0.1) (0.13.9)\n",
      "Requirement already satisfied: jupyterlab in /opt/conda/lib/python3.8/site-packages (from FusionTransformer==0.0.1) (3.0.16)\n",
      "Requirement already satisfied: descartes in /opt/conda/lib/python3.8/site-packages (from nuscenes-devkit->FusionTransformer==0.0.1) (1.1.0)\n",
      "Requirement already satisfied: cachetools in /opt/conda/lib/python3.8/site-packages (from nuscenes-devkit->FusionTransformer==0.0.1) (4.2.2)\n",
      "Requirement already satisfied: Shapely in /opt/conda/lib/python3.8/site-packages (from nuscenes-devkit->FusionTransformer==0.0.1) (1.7.1)\n",
      "Requirement already satisfied: opencv-python in /opt/conda/lib/python3.8/site-packages (from nuscenes-devkit->FusionTransformer==0.0.1) (4.5.2.52)\n",
      "Requirement already satisfied: scikit-learn in /opt/conda/lib/python3.8/site-packages (from nuscenes-devkit->FusionTransformer==0.0.1) (0.24.2)\n",
      "Requirement already satisfied: matplotlib in /opt/conda/lib/python3.8/site-packages (from nuscenes-devkit->FusionTransformer==0.0.1) (3.4.2)\n",
      "Requirement already satisfied: pycocotools>=2.0.1 in /opt/conda/lib/python3.8/site-packages (from nuscenes-devkit->FusionTransformer==0.0.1) (2.0.2)\n",
      "Requirement already satisfied: jupyter in /opt/conda/lib/python3.8/site-packages (from nuscenes-devkit->FusionTransformer==0.0.1) (1.0.0)\n",
      "Requirement already satisfied: Pillow>6.2.1 in /opt/conda/lib/python3.8/site-packages (from nuscenes-devkit->FusionTransformer==0.0.1) (8.1.0)\n",
      "Requirement already satisfied: scipy in /opt/conda/lib/python3.8/site-packages (from nuscenes-devkit->FusionTransformer==0.0.1) (1.6.3)\n",
      "Requirement already satisfied: numpy in /opt/conda/lib/python3.8/site-packages (from nuscenes-devkit->FusionTransformer==0.0.1) (1.19.2)\n",
      "Requirement already satisfied: pyquaternion>=0.9.5 in /opt/conda/lib/python3.8/site-packages (from nuscenes-devkit->FusionTransformer==0.0.1) (0.9.9)\n",
      "Requirement already satisfied: fire in /opt/conda/lib/python3.8/site-packages (from nuscenes-devkit->FusionTransformer==0.0.1) (0.4.0)\n",
      "Requirement already satisfied: torch>=1.4 in /opt/conda/lib/python3.8/site-packages (from timm->FusionTransformer==0.0.1) (1.7.1)\n",
      "Requirement already satisfied: torchvision in /opt/conda/lib/python3.8/site-packages (from timm->FusionTransformer==0.0.1) (0.8.2)\n",
      "Requirement already satisfied: google-auth<2,>=1.6.3 in /opt/conda/lib/python3.8/site-packages (from tensorboard->FusionTransformer==0.0.1) (1.30.1)\n",
      "Requirement already satisfied: setuptools>=41.0.0 in /opt/conda/lib/python3.8/site-packages (from tensorboard->FusionTransformer==0.0.1) (50.3.1.post20201107)\n",
      "Requirement already satisfied: protobuf>=3.6.0 in /opt/conda/lib/python3.8/site-packages (from tensorboard->FusionTransformer==0.0.1) (3.17.1)\n",
      "Requirement already satisfied: grpcio>=1.24.3 in /opt/conda/lib/python3.8/site-packages (from tensorboard->FusionTransformer==0.0.1) (1.38.0)\n",
      "Requirement already satisfied: markdown>=2.6.8 in /opt/conda/lib/python3.8/site-packages (from tensorboard->FusionTransformer==0.0.1) (3.3.4)\n",
      "Requirement already satisfied: tensorboard-data-server<0.7.0,>=0.6.0 in /opt/conda/lib/python3.8/site-packages (from tensorboard->FusionTransformer==0.0.1) (0.6.1)\n",
      "Requirement already satisfied: werkzeug>=0.11.15 in /opt/conda/lib/python3.8/site-packages (from tensorboard->FusionTransformer==0.0.1) (2.0.1)\n",
      "Requirement already satisfied: wheel>=0.26; python_version >= \"3\" in /opt/conda/lib/python3.8/site-packages (from tensorboard->FusionTransformer==0.0.1) (0.35.1)\n",
      "Requirement already satisfied: absl-py>=0.4 in /opt/conda/lib/python3.8/site-packages (from tensorboard->FusionTransformer==0.0.1) (0.12.0)\n",
      "Requirement already satisfied: requests<3,>=2.21.0 in /opt/conda/lib/python3.8/site-packages (from tensorboard->FusionTransformer==0.0.1) (2.24.0)\n",
      "Requirement already satisfied: tensorboard-plugin-wit>=1.6.0 in /opt/conda/lib/python3.8/site-packages (from tensorboard->FusionTransformer==0.0.1) (1.8.0)\n",
      "Requirement already satisfied: google-auth-oauthlib<0.5,>=0.4.1 in /opt/conda/lib/python3.8/site-packages (from tensorboard->FusionTransformer==0.0.1) (0.4.4)\n",
      "Requirement already satisfied: ipython>=7.17.0; python_version > \"3.6\" in /opt/conda/lib/python3.8/site-packages (from ipdb->FusionTransformer==0.0.1) (7.19.0)\n",
      "Requirement already satisfied: decorator; python_version > \"3.6\" in /opt/conda/lib/python3.8/site-packages (from ipdb->FusionTransformer==0.0.1) (4.4.2)\n",
      "Requirement already satisfied: toml>=0.10.2; python_version > \"3.6\" in /opt/conda/lib/python3.8/site-packages (from ipdb->FusionTransformer==0.0.1) (0.10.2)\n",
      "Requirement already satisfied: packaging in /opt/conda/lib/python3.8/site-packages (from jupyterlab->FusionTransformer==0.0.1) (20.9)\n",
      "Requirement already satisfied: jupyter-server~=1.4 in /opt/conda/lib/python3.8/site-packages (from jupyterlab->FusionTransformer==0.0.1) (1.8.0)\n",
      "Requirement already satisfied: nbclassic~=0.2 in /opt/conda/lib/python3.8/site-packages (from jupyterlab->FusionTransformer==0.0.1) (0.3.1)\n",
      "Requirement already satisfied: jinja2>=2.1 in /opt/conda/lib/python3.8/site-packages (from jupyterlab->FusionTransformer==0.0.1) (2.11.2)\n",
      "Requirement already satisfied: tornado>=6.1.0 in /opt/conda/lib/python3.8/site-packages (from jupyterlab->FusionTransformer==0.0.1) (6.1)\n",
      "Requirement already satisfied: jupyter-core in /opt/conda/lib/python3.8/site-packages (from jupyterlab->FusionTransformer==0.0.1) (4.7.1)\n",
      "Requirement already satisfied: jupyterlab-server~=2.3 in /opt/conda/lib/python3.8/site-packages (from jupyterlab->FusionTransformer==0.0.1) (2.6.0)\n",
      "Requirement already satisfied: threadpoolctl>=2.0.0 in /opt/conda/lib/python3.8/site-packages (from scikit-learn->nuscenes-devkit->FusionTransformer==0.0.1) (2.1.0)\n",
      "Requirement already satisfied: joblib>=0.11 in /opt/conda/lib/python3.8/site-packages (from scikit-learn->nuscenes-devkit->FusionTransformer==0.0.1) (1.0.1)\n",
      "Requirement already satisfied: kiwisolver>=1.0.1 in /opt/conda/lib/python3.8/site-packages (from matplotlib->nuscenes-devkit->FusionTransformer==0.0.1) (1.3.1)\n",
      "Requirement already satisfied: cycler>=0.10 in /opt/conda/lib/python3.8/site-packages (from matplotlib->nuscenes-devkit->FusionTransformer==0.0.1) (0.10.0)\n",
      "Requirement already satisfied: pyparsing>=2.2.1 in /opt/conda/lib/python3.8/site-packages (from matplotlib->nuscenes-devkit->FusionTransformer==0.0.1) (2.4.7)\n",
      "Requirement already satisfied: python-dateutil>=2.7 in /opt/conda/lib/python3.8/site-packages (from matplotlib->nuscenes-devkit->FusionTransformer==0.0.1) (2.8.1)\n",
      "Requirement already satisfied: cython>=0.27.3 in /opt/conda/lib/python3.8/site-packages (from pycocotools>=2.0.1->nuscenes-devkit->FusionTransformer==0.0.1) (0.29.23)\n",
      "Requirement already satisfied: ipykernel in /opt/conda/lib/python3.8/site-packages (from jupyter->nuscenes-devkit->FusionTransformer==0.0.1) (5.5.5)\n",
      "Requirement already satisfied: qtconsole in /opt/conda/lib/python3.8/site-packages (from jupyter->nuscenes-devkit->FusionTransformer==0.0.1) (5.1.0)\n",
      "Requirement already satisfied: notebook in /opt/conda/lib/python3.8/site-packages (from jupyter->nuscenes-devkit->FusionTransformer==0.0.1) (6.4.0)\n",
      "Requirement already satisfied: nbconvert in /opt/conda/lib/python3.8/site-packages (from jupyter->nuscenes-devkit->FusionTransformer==0.0.1) (6.0.7)\n",
      "Requirement already satisfied: ipywidgets in /opt/conda/lib/python3.8/site-packages (from jupyter->nuscenes-devkit->FusionTransformer==0.0.1) (7.6.3)\n",
      "Requirement already satisfied: jupyter-console in /opt/conda/lib/python3.8/site-packages (from jupyter->nuscenes-devkit->FusionTransformer==0.0.1) (6.4.0)\n",
      "Requirement already satisfied: six in /opt/conda/lib/python3.8/site-packages (from fire->nuscenes-devkit->FusionTransformer==0.0.1) (1.15.0)\n",
      "Requirement already satisfied: termcolor in /opt/conda/lib/python3.8/site-packages (from fire->nuscenes-devkit->FusionTransformer==0.0.1) (1.1.0)\n",
      "Requirement already satisfied: typing_extensions in /opt/conda/lib/python3.8/site-packages (from torch>=1.4->timm->FusionTransformer==0.0.1) (3.7.4.3)\n",
      "Requirement already satisfied: rsa<5,>=3.1.4; python_version >= \"3.6\" in /opt/conda/lib/python3.8/site-packages (from google-auth<2,>=1.6.3->tensorboard->FusionTransformer==0.0.1) (4.7.2)\n",
      "Requirement already satisfied: pyasn1-modules>=0.2.1 in /opt/conda/lib/python3.8/site-packages (from google-auth<2,>=1.6.3->tensorboard->FusionTransformer==0.0.1) (0.2.8)\n",
      "Requirement already satisfied: urllib3!=1.25.0,!=1.25.1,<1.26,>=1.21.1 in /opt/conda/lib/python3.8/site-packages (from requests<3,>=2.21.0->tensorboard->FusionTransformer==0.0.1) (1.25.11)\n",
      "Requirement already satisfied: chardet<4,>=3.0.2 in /opt/conda/lib/python3.8/site-packages (from requests<3,>=2.21.0->tensorboard->FusionTransformer==0.0.1) (3.0.4)\n",
      "Requirement already satisfied: certifi>=2017.4.17 in /opt/conda/lib/python3.8/site-packages (from requests<3,>=2.21.0->tensorboard->FusionTransformer==0.0.1) (2021.5.30)\n",
      "Requirement already satisfied: idna<3,>=2.5 in /opt/conda/lib/python3.8/site-packages (from requests<3,>=2.21.0->tensorboard->FusionTransformer==0.0.1) (2.10)\n",
      "Requirement already satisfied: requests-oauthlib>=0.7.0 in /opt/conda/lib/python3.8/site-packages (from google-auth-oauthlib<0.5,>=0.4.1->tensorboard->FusionTransformer==0.0.1) (1.3.0)\n",
      "Requirement already satisfied: pickleshare in /opt/conda/lib/python3.8/site-packages (from ipython>=7.17.0; python_version > \"3.6\"->ipdb->FusionTransformer==0.0.1) (0.7.5)\n",
      "Requirement already satisfied: pexpect>4.3; sys_platform != \"win32\" in /opt/conda/lib/python3.8/site-packages (from ipython>=7.17.0; python_version > \"3.6\"->ipdb->FusionTransformer==0.0.1) (4.8.0)\n",
      "Requirement already satisfied: jedi>=0.10 in /opt/conda/lib/python3.8/site-packages (from ipython>=7.17.0; python_version > \"3.6\"->ipdb->FusionTransformer==0.0.1) (0.17.2)\n",
      "Requirement already satisfied: pygments in /opt/conda/lib/python3.8/site-packages (from ipython>=7.17.0; python_version > \"3.6\"->ipdb->FusionTransformer==0.0.1) (2.7.4)\n",
      "Requirement already satisfied: backcall in /opt/conda/lib/python3.8/site-packages (from ipython>=7.17.0; python_version > \"3.6\"->ipdb->FusionTransformer==0.0.1) (0.2.0)\n",
      "Requirement already satisfied: traitlets>=4.2 in /opt/conda/lib/python3.8/site-packages (from ipython>=7.17.0; python_version > \"3.6\"->ipdb->FusionTransformer==0.0.1) (5.0.5)\n",
      "Requirement already satisfied: prompt-toolkit!=3.0.0,!=3.0.1,<3.1.0,>=2.0.0 in /opt/conda/lib/python3.8/site-packages (from ipython>=7.17.0; python_version > \"3.6\"->ipdb->FusionTransformer==0.0.1) (3.0.17)\n",
      "Requirement already satisfied: jupyter-client>=6.1.1 in /opt/conda/lib/python3.8/site-packages (from jupyter-server~=1.4->jupyterlab->FusionTransformer==0.0.1) (6.1.12)\n",
      "Requirement already satisfied: anyio<4,>=3.1.0 in /opt/conda/lib/python3.8/site-packages (from jupyter-server~=1.4->jupyterlab->FusionTransformer==0.0.1) (3.1.0)\n",
      "Requirement already satisfied: Send2Trash in /opt/conda/lib/python3.8/site-packages (from jupyter-server~=1.4->jupyterlab->FusionTransformer==0.0.1) (1.5.0)\n",
      "Requirement already satisfied: prometheus-client in /opt/conda/lib/python3.8/site-packages (from jupyter-server~=1.4->jupyterlab->FusionTransformer==0.0.1) (0.11.0)\n",
      "Requirement already satisfied: argon2-cffi in /opt/conda/lib/python3.8/site-packages (from jupyter-server~=1.4->jupyterlab->FusionTransformer==0.0.1) (20.1.0)\n",
      "Requirement already satisfied: terminado>=0.8.3 in /opt/conda/lib/python3.8/site-packages (from jupyter-server~=1.4->jupyterlab->FusionTransformer==0.0.1) (0.10.0)\n",
      "Requirement already satisfied: nbformat in /opt/conda/lib/python3.8/site-packages (from jupyter-server~=1.4->jupyterlab->FusionTransformer==0.0.1) (5.1.3)\n",
      "Requirement already satisfied: websocket-client in /opt/conda/lib/python3.8/site-packages (from jupyter-server~=1.4->jupyterlab->FusionTransformer==0.0.1) (1.1.0)\n",
      "Requirement already satisfied: ipython-genutils in /opt/conda/lib/python3.8/site-packages (from jupyter-server~=1.4->jupyterlab->FusionTransformer==0.0.1) (0.2.0)\n",
      "Requirement already satisfied: pyzmq>=17 in /opt/conda/lib/python3.8/site-packages (from jupyter-server~=1.4->jupyterlab->FusionTransformer==0.0.1) (22.1.0)\n",
      "Requirement already satisfied: MarkupSafe>=0.23 in /opt/conda/lib/python3.8/site-packages (from jinja2>=2.1->jupyterlab->FusionTransformer==0.0.1) (1.1.1)\n",
      "Requirement already satisfied: babel in /opt/conda/lib/python3.8/site-packages (from jupyterlab-server~=2.3->jupyterlab->FusionTransformer==0.0.1) (2.9.1)\n",
      "Requirement already satisfied: json5 in /opt/conda/lib/python3.8/site-packages (from jupyterlab-server~=2.3->jupyterlab->FusionTransformer==0.0.1) (0.9.5)\n",
      "Requirement already satisfied: jsonschema>=3.0.1 in /opt/conda/lib/python3.8/site-packages (from jupyterlab-server~=2.3->jupyterlab->FusionTransformer==0.0.1) (3.2.0)\n",
      "Requirement already satisfied: qtpy in /opt/conda/lib/python3.8/site-packages (from qtconsole->jupyter->nuscenes-devkit->FusionTransformer==0.0.1) (1.9.0)\n",
      "Requirement already satisfied: defusedxml in /opt/conda/lib/python3.8/site-packages (from nbconvert->jupyter->nuscenes-devkit->FusionTransformer==0.0.1) (0.7.1)\n",
      "Requirement already satisfied: pandocfilters>=1.4.1 in /opt/conda/lib/python3.8/site-packages (from nbconvert->jupyter->nuscenes-devkit->FusionTransformer==0.0.1) (1.4.3)\n",
      "Requirement already satisfied: jupyterlab-pygments in /opt/conda/lib/python3.8/site-packages (from nbconvert->jupyter->nuscenes-devkit->FusionTransformer==0.0.1) (0.1.2)\n",
      "Requirement already satisfied: mistune<2,>=0.8.1 in /opt/conda/lib/python3.8/site-packages (from nbconvert->jupyter->nuscenes-devkit->FusionTransformer==0.0.1) (0.8.4)\n",
      "Requirement already satisfied: entrypoints>=0.2.2 in /opt/conda/lib/python3.8/site-packages (from nbconvert->jupyter->nuscenes-devkit->FusionTransformer==0.0.1) (0.3)\n",
      "Requirement already satisfied: bleach in /opt/conda/lib/python3.8/site-packages (from nbconvert->jupyter->nuscenes-devkit->FusionTransformer==0.0.1) (3.3.0)\n",
      "Requirement already satisfied: nbclient<0.6.0,>=0.5.0 in /opt/conda/lib/python3.8/site-packages (from nbconvert->jupyter->nuscenes-devkit->FusionTransformer==0.0.1) (0.5.3)\n",
      "Requirement already satisfied: testpath in /opt/conda/lib/python3.8/site-packages (from nbconvert->jupyter->nuscenes-devkit->FusionTransformer==0.0.1) (0.5.0)\n",
      "Requirement already satisfied: widgetsnbextension~=3.5.0 in /opt/conda/lib/python3.8/site-packages (from ipywidgets->jupyter->nuscenes-devkit->FusionTransformer==0.0.1) (3.5.1)\n",
      "Requirement already satisfied: jupyterlab-widgets>=1.0.0; python_version >= \"3.6\" in /opt/conda/lib/python3.8/site-packages (from ipywidgets->jupyter->nuscenes-devkit->FusionTransformer==0.0.1) (1.0.0)\n",
      "Requirement already satisfied: pyasn1>=0.1.3 in /opt/conda/lib/python3.8/site-packages (from rsa<5,>=3.1.4; python_version >= \"3.6\"->google-auth<2,>=1.6.3->tensorboard->FusionTransformer==0.0.1) (0.4.8)\n",
      "Requirement already satisfied: oauthlib>=3.0.0 in /opt/conda/lib/python3.8/site-packages (from requests-oauthlib>=0.7.0->google-auth-oauthlib<0.5,>=0.4.1->tensorboard->FusionTransformer==0.0.1) (3.1.0)\n",
      "Requirement already satisfied: ptyprocess>=0.5 in /opt/conda/lib/python3.8/site-packages (from pexpect>4.3; sys_platform != \"win32\"->ipython>=7.17.0; python_version > \"3.6\"->ipdb->FusionTransformer==0.0.1) (0.7.0)\n",
      "Requirement already satisfied: parso<0.8.0,>=0.7.0 in /opt/conda/lib/python3.8/site-packages (from jedi>=0.10->ipython>=7.17.0; python_version > \"3.6\"->ipdb->FusionTransformer==0.0.1) (0.7.0)\n",
      "Requirement already satisfied: wcwidth in /opt/conda/lib/python3.8/site-packages (from prompt-toolkit!=3.0.0,!=3.0.1,<3.1.0,>=2.0.0->ipython>=7.17.0; python_version > \"3.6\"->ipdb->FusionTransformer==0.0.1) (0.2.5)\n",
      "Requirement already satisfied: sniffio>=1.1 in /opt/conda/lib/python3.8/site-packages (from anyio<4,>=3.1.0->jupyter-server~=1.4->jupyterlab->FusionTransformer==0.0.1) (1.2.0)\n",
      "Requirement already satisfied: cffi>=1.0.0 in /opt/conda/lib/python3.8/site-packages (from argon2-cffi->jupyter-server~=1.4->jupyterlab->FusionTransformer==0.0.1) (1.14.3)\n",
      "Requirement already satisfied: pytz>=2015.7 in /opt/conda/lib/python3.8/site-packages (from babel->jupyterlab-server~=2.3->jupyterlab->FusionTransformer==0.0.1) (2020.5)\n",
      "Requirement already satisfied: pyrsistent>=0.14.0 in /opt/conda/lib/python3.8/site-packages (from jsonschema>=3.0.1->jupyterlab-server~=2.3->jupyterlab->FusionTransformer==0.0.1) (0.17.3)\n",
      "Requirement already satisfied: attrs>=17.4.0 in /opt/conda/lib/python3.8/site-packages (from jsonschema>=3.0.1->jupyterlab-server~=2.3->jupyterlab->FusionTransformer==0.0.1) (21.2.0)\n",
      "Requirement already satisfied: webencodings in /opt/conda/lib/python3.8/site-packages (from bleach->nbconvert->jupyter->nuscenes-devkit->FusionTransformer==0.0.1) (0.5.1)\n",
      "Requirement already satisfied: async-generator in /opt/conda/lib/python3.8/site-packages (from nbclient<0.6.0,>=0.5.0->nbconvert->jupyter->nuscenes-devkit->FusionTransformer==0.0.1) (1.10)\n",
      "Requirement already satisfied: nest-asyncio in /opt/conda/lib/python3.8/site-packages (from nbclient<0.6.0,>=0.5.0->nbconvert->jupyter->nuscenes-devkit->FusionTransformer==0.0.1) (1.5.1)\n",
      "Requirement already satisfied: pycparser in /opt/conda/lib/python3.8/site-packages (from cffi>=1.0.0->argon2-cffi->jupyter-server~=1.4->jupyterlab->FusionTransformer==0.0.1) (2.20)\n",
      "Installing collected packages: FusionTransformer\n",
      "  Attempting uninstall: FusionTransformer\n",
      "    Found existing installation: FusionTransformer 0.0.1\n",
      "    Uninstalling FusionTransformer-0.0.1:\n",
      "      Successfully uninstalled FusionTransformer-0.0.1\n",
      "  Running setup.py develop for FusionTransformer\n",
      "Successfully installed FusionTransformer\n"
     ]
    }
   ],
   "source": [
    "!pip install -e ."
   ]
  },
  {
   "cell_type": "code",
   "execution_count": 2,
   "id": "9b6b9f3f-a43a-4649-85e3-c9a1d626413a",
   "metadata": {},
   "outputs": [],
   "source": [
    "import numpy as np\n",
    "import logging\n",
    "import time\n",
    "\n",
    "import torch\n",
    "import torch.nn.functional as F"
   ]
  },
  {
   "cell_type": "code",
   "execution_count": 3,
   "id": "a10f0b32-a5e0-44a3-a892-a86084a51b2d",
   "metadata": {},
   "outputs": [],
   "source": [
    "from tqdm import tqdm"
   ]
  },
  {
   "cell_type": "code",
   "execution_count": 4,
   "id": "d1578350-e8c5-4e6d-8887-df08509238b0",
   "metadata": {},
   "outputs": [],
   "source": [
    "from FusionTransformer.common.config import purge_cfg\n",
    "from FusionTransformer.config.FusionTransformerConfig import cfg"
   ]
  },
  {
   "cell_type": "code",
   "execution_count": 5,
   "id": "114547f1-c121-4293-a4f4-98d92da2d173",
   "metadata": {},
   "outputs": [],
   "source": [
    "from FusionTransformer.models.build import build_model\n",
    "from FusionTransformer.data.build import build_dataloader"
   ]
  },
  {
   "cell_type": "code",
   "execution_count": 6,
   "id": "27806531-be40-4730-a017-5edec123110e",
   "metadata": {},
   "outputs": [],
   "source": [
    "from FusionTransformer.common.utils.checkpoint import CheckpointerV2"
   ]
  },
  {
   "cell_type": "code",
   "execution_count": 7,
   "id": "a62ef861-f9ae-47b7-adf5-1326dc2739da",
   "metadata": {},
   "outputs": [],
   "source": [
    "from FusionTransformer.common.utils.torch_util import set_random_seed"
   ]
  },
  {
   "cell_type": "code",
   "execution_count": 8,
   "id": "ae5b2550-dbc0-4822-b2b1-c859358e8a10",
   "metadata": {},
   "outputs": [],
   "source": [
    "from FusionTransformer.data.utils.evaluate import Evaluator"
   ]
  },
  {
   "cell_type": "code",
   "execution_count": 9,
   "id": "55cb52fe-0547-49ed-9da7-363575ecc73a",
   "metadata": {},
   "outputs": [],
   "source": [
    "from FusionTransformer.common.utils.metric_logger import MetricLogger"
   ]
  },
  {
   "cell_type": "code",
   "execution_count": 10,
   "id": "34a7fd97-f962-4bef-9382-b0d7527146d8",
   "metadata": {},
   "outputs": [],
   "source": [
    "def map_sparse_to_org(x, inverse_map):\n",
    "    return x[inverse_map]"
   ]
  },
  {
   "cell_type": "code",
   "execution_count": 11,
   "id": "c74d8190-4e87-4de4-8441-4eebb6e47cb4",
   "metadata": {},
   "outputs": [],
   "source": [
    "def spread_predictions(left_idx, right_idx, curr_seg_label, curr_points_idx, curr_inverse_map, pred_label_voxel_2d, pred_label_voxel_3d, pred_label_voxel_ensemble, map_inverse_label):\n",
    "    pred_label_2d = pred_label_voxel_2d[left_idx:right_idx]\n",
    "    pred_label_2d = map_sparse_to_org(pred_label_2d, curr_inverse_map)\n",
    "\n",
    "    pred_label_3d = pred_label_voxel_3d[left_idx:right_idx] #if model_3d else None\n",
    "    pred_label_3d = map_sparse_to_org(pred_label_3d, curr_inverse_map)\n",
    "\n",
    "    pred_label_ensemble = pred_label_voxel_ensemble[left_idx:right_idx]# if model_3d else None\n",
    "    pred_label_ensemble = map_sparse_to_org(pred_label_ensemble, curr_inverse_map)\n",
    "\n",
    "    if map_inverse_label is not None:\n",
    "        curr_seg_label = map_inverse_label(curr_seg_label)\n",
    "        pred_label_2d =  map_inverse_label(pred_label_2d)\n",
    "        pred_label_3d =  map_inverse_label(pred_label_3d)\n",
    "        pred_label_ensemble = map_inverse_label(pred_label_ensemble)\n",
    "            \n",
    "    return pred_label_2d, pred_label_3d, pred_label_ensemble, curr_seg_label"
   ]
  },
  {
   "cell_type": "code",
   "execution_count": 12,
   "id": "2a944047-afe8-415e-a9de-b8992b9b6d79",
   "metadata": {},
   "outputs": [],
   "source": [
    "def validate(cfg,\n",
    "             model,\n",
    "             dataloader,\n",
    "#              val_metric_logger,\n",
    "             class_weights\n",
    "             ):\n",
    "    print('FusionTransformer.validate')\n",
    "    print('Validation')\n",
    "\n",
    "    # evaluator\n",
    "    class_names = dataloader.dataset.class_names\n",
    "    class_labels = dataloader.dataset.class_labels\n",
    "    evaluator_2d = Evaluator(class_names, labels=class_labels)\n",
    "    evaluator_3d = Evaluator(class_names, labels=class_labels) #if model_3d else None\n",
    "    evaluator_ensemble = Evaluator(class_names, labels=class_labels) # if model_3d else None\n",
    "\n",
    "\n",
    "    end = time.time()\n",
    "    with torch.no_grad():\n",
    "        for iteration, data_batch in tqdm(enumerate(dataloader), total=len(dataloader)):\n",
    "            data_time = time.time() - end\n",
    "            # copy data from cpu to gpu\n",
    "            if 'SCN' in cfg.DATASET.TYPE:\n",
    "                data_batch[\"img\"] = data_batch[\"img\"].cuda()\n",
    "                data_batch[\"lidar\"] = data_batch[\"lidar\"].cuda()\n",
    "                # data_batch['x'][1] = data_batch['x'][1].cuda()\n",
    "                data_batch['seg_label'] = data_batch['seg_label'].cuda()\n",
    "                # data_batch['img'] = data_batch['img'].cuda()\n",
    "            else:\n",
    "                raise NotImplementedError\n",
    "\n",
    "            # predict\n",
    "#             import ipdb; ipdb.set_trace()\n",
    "            preds = model(data_batch)\n",
    "\n",
    "            # preds_2d = model_2d(data_batch)\n",
    "            # preds_3d = model_3d(data_batch) if model_3d else None\n",
    "\n",
    "            pred_label_voxel_2d = preds['img_seg_logit'].argmax(1).cpu().numpy()\n",
    "            pred_label_voxel_3d = preds['lidar_seg_logit'].argmax(1).cpu().numpy() \n",
    "\n",
    "            # softmax average (ensembling)\n",
    "            probs_2d = F.softmax(preds['img_seg_logit'], dim=1)\n",
    "            probs_3d = F.softmax(preds['lidar_seg_logit'], dim=1) \n",
    "            pred_label_voxel_ensemble = (probs_2d + probs_3d).argmax(1).cpu().numpy() \n",
    "\n",
    "\n",
    "            # get original point cloud from before voxelization\n",
    "            seg_label = data_batch['orig_seg_label']\n",
    "            points_idx = data_batch['sparse_orig_points_idx']\n",
    "            inverse_map = data_batch[\"inverse_map\"]\n",
    "            \n",
    "            left_idx = 0\n",
    "            for batch_ind in range(len(seg_label)):\n",
    "                \n",
    "                curr_points_idx = points_idx[batch_ind]\n",
    "                assert np.all(curr_points_idx)\n",
    "                curr_inverse_map = inverse_map[batch_ind]\n",
    "                curr_seg_label = seg_label[batch_ind]\n",
    "                right_idx = left_idx + curr_points_idx.sum()\n",
    "                \n",
    "                pred_label_2d, pred_label_3d, pred_label_ensemble, curr_seg_label = \\\n",
    "                spread_predictions(left_idx, right_idx, \n",
    "                                   curr_seg_label, curr_points_idx, curr_inverse_map, \n",
    "                                   pred_label_voxel_2d, pred_label_voxel_3d, pred_label_voxel_ensemble,\n",
    "                                    dataloader.dataset.map_inverse_label\n",
    "                                  )\n",
    "\n",
    "                # evaluate\n",
    "#                 import ipdb; ipdb.set_trace()\n",
    "#                 print(\"prediction 2d: \", np.unique(pred_label_2d))\n",
    "#                 print(\"prediction 3d: \", np.unique(pred_label_3d))\n",
    "\n",
    "#                 print(\"label:\", np.unique(curr_seg_label))\n",
    "                \n",
    "                evaluator_2d.update(pred_label_2d, curr_seg_label)\n",
    "                # if model_3d:\n",
    "\n",
    "                evaluator_3d.update(pred_label_3d, curr_seg_label)\n",
    "                evaluator_ensemble.update(pred_label_ensemble, curr_seg_label)\n",
    "\n",
    "                left_idx = right_idx\n",
    "\n",
    "            seg_loss_2d = F.cross_entropy(preds['img_seg_logit'], data_batch['seg_label'], weight=class_weights)\n",
    "            seg_loss_3d = F.cross_entropy(preds['lidar_seg_logit'], data_batch['seg_label'], weight=class_weights) # if model_3d else None\n",
    "#             val_metric_logger.update(seg_loss_2d=seg_loss_2d)\n",
    "#             if seg_loss_3d is not None:\n",
    "#                 val_metric_logger.update(seg_loss_3d=seg_loss_3d)\n",
    "\n",
    "            batch_time = time.time() - end\n",
    "#             val_metric_logger.update(time=batch_time, data=data_time)\n",
    "            end = time.time()\n",
    "    eval_list = [('2D', evaluator_2d),('3D', evaluator_3d), ('2D+3D', evaluator_ensemble)]\n",
    "#     eval_list = [('3D', evaluator_3d)]\n",
    "\n",
    "    # if model_3d:\n",
    "    eval_list.extend([])\n",
    "    for modality, evaluator in eval_list:\n",
    "        print('{} overall accuracy={:.2f}%'.format(modality, 100.0 * evaluator.overall_acc))\n",
    "        print('{} overall IOU={:.2f}'.format(modality, 100.0 * evaluator.overall_iou))\n",
    "        print('{} class-wise segmentation accuracy and IoU.\\n{}'.format(modality, evaluator.print_table()))\n"
   ]
  },
  {
   "cell_type": "code",
   "execution_count": 13,
   "id": "bfc6e484-fad1-4900-9561-9c89de48abce",
   "metadata": {},
   "outputs": [],
   "source": [
    "config_file = \"/home/user/FusionTransformer/configs/semantic_kitti/middlefusion.yaml\""
   ]
  },
  {
   "cell_type": "code",
   "execution_count": 14,
   "id": "d7053a3a-0ff4-4b34-9b6c-dda79bc41f4e",
   "metadata": {},
   "outputs": [],
   "source": [
    "# config_file = \"/home/user/FusionTransformer/configs/semantic_kitti/earlyfusion.yaml\""
   ]
  },
  {
   "cell_type": "code",
   "execution_count": 15,
   "id": "82bfc393-3bc2-4d7a-b679-930b881a88a3",
   "metadata": {},
   "outputs": [],
   "source": [
    "# pretrained_model_path = \"/home/user/logs_2/semantic_kitti/middlefusion/model000094.pth\"\n",
    "pretrained_model_path = \"/home/user/logs/FusionTransformer/semantic_kitti/middlefusion/model000076.pth\""
   ]
  },
  {
   "cell_type": "code",
   "execution_count": 16,
   "id": "95bc631e-3624-41e2-878a-b1a0ca2a34e0",
   "metadata": {},
   "outputs": [],
   "source": [
    "# pretrained_model_path = \"/home/user/logs/FusionTransformer/semantic_kitti/earlyfusion/model000072.pth\""
   ]
  },
  {
   "cell_type": "code",
   "execution_count": 17,
   "id": "cc73afb9-7c8e-46ca-a415-81e00ce58d3b",
   "metadata": {},
   "outputs": [],
   "source": [
    "cfg.merge_from_file(config_file)\n",
    "purge_cfg(cfg)\n",
    "cfg.freeze()"
   ]
  },
  {
   "cell_type": "code",
   "execution_count": 18,
   "id": "5af0104d-13de-41fb-bf7d-e4cb47f73da1",
   "metadata": {},
   "outputs": [],
   "source": [
    "logger = logging.getLogger('FusionTransformer.test')\n",
    "\n",
    "model = build_model(cfg)[0]\n",
    "\n",
    "model = model.cuda()"
   ]
  },
  {
   "cell_type": "code",
   "execution_count": 19,
   "id": "2f68b9d4-6751-4b47-866d-cb86a993a60f",
   "metadata": {},
   "outputs": [
    {
     "name": "stdout",
     "output_type": "stream",
     "text": [
      "Initialize SemanticKITTI dataloader\n",
      "Load ('test',)\n"
     ]
    }
   ],
   "source": [
    "# build checkpointer\n",
    "checkpointer = CheckpointerV2(model, save_dir=\"\", logger=logger)\n",
    "\n",
    "\n",
    "# load last checkpoint\n",
    "checkpointer.load(pretrained_model_path, resume=False)\n",
    "\n",
    "# build dataset\n",
    "test_dataloader = build_dataloader(cfg, mode='test')"
   ]
  },
  {
   "cell_type": "code",
   "execution_count": 20,
   "id": "33898201-fb31-4e25-82b5-0435c3c9f247",
   "metadata": {},
   "outputs": [],
   "source": [
    "# ---------------------------------------------------------------------------- #\n",
    "# Test\n",
    "# ---------------------------------------------------------------------------- #\n",
    "\n",
    "set_random_seed(cfg.RNG_SEED)\n",
    "# test_metric_logger = MetricLogger(delimiter='  ')\n",
    "model.eval()\n",
    "\n",
    "if cfg.TRAIN.CLASS_WEIGHTS:\n",
    "    class_weights = torch.tensor(cfg.TRAIN.CLASS_WEIGHTS).cuda()\n",
    "else:\n",
    "    class_weights = None"
   ]
  },
  {
   "cell_type": "code",
   "execution_count": null,
   "id": "7a8d9397-20fe-4ac9-9c09-2dd0562a5151",
   "metadata": {},
   "outputs": [
    {
     "name": "stdout",
     "output_type": "stream",
     "text": [
      "FusionTransformer.validate\n",
      "Validation\n"
     ]
    },
    {
     "name": "stderr",
     "output_type": "stream",
     "text": [
      "  0%|          | 0/408 [00:00<?, ?it/s]"
     ]
    },
    {
     "name": "stdout",
     "output_type": "stream",
     "text": [
      "input shape torch.Size([10, 96, 370, 1226]) unique  tensor([0.]) idx  0\n",
      "input shape torch.Size([10, 96, 370, 1226]) unique  tensor([-1.8336, -1.8274, -1.8149,  ...,  2.0035,  2.0041,  2.0058]) idx  1\n"
     ]
    },
    {
     "name": "stderr",
     "output_type": "stream",
     "text": [
      "  0%|          | 1/408 [00:08<56:49,  8.38s/it]"
     ]
    },
    {
     "name": "stdout",
     "output_type": "stream",
     "text": [
      "input shape torch.Size([10, 96, 370, 1226]) unique  tensor([0.]) idx  0\n",
      "input shape torch.Size([10, 96, 370, 1226]) unique  tensor([-1.8318, -1.8149, -1.8081,  ...,  2.0025,  2.0040,  2.0041]) idx  1\n"
     ]
    },
    {
     "name": "stderr",
     "output_type": "stream",
     "text": [
      "  0%|          | 2/408 [00:15<53:21,  7.88s/it]"
     ]
    },
    {
     "name": "stdout",
     "output_type": "stream",
     "text": [
      "input shape torch.Size([10, 96, 370, 1226]) unique  tensor([0.]) idx  0\n",
      "input shape torch.Size([10, 96, 370, 1226]) unique  tensor([-1.8274, -1.8133, -1.8062,  ...,  2.0035,  2.0041,  2.0075]) idx  1\n"
     ]
    },
    {
     "name": "stderr",
     "output_type": "stream",
     "text": [
      "  1%|          | 3/408 [00:21<50:12,  7.44s/it]"
     ]
    },
    {
     "name": "stdout",
     "output_type": "stream",
     "text": [
      "input shape torch.Size([10, 96, 370, 1226]) unique  tensor([0.]) idx  0\n",
      "input shape torch.Size([10, 96, 370, 1226]) unique  tensor([-1.8336, -1.8318, -1.8149,  ...,  2.0035,  2.0055,  2.0069]) idx  1\n"
     ]
    },
    {
     "name": "stderr",
     "output_type": "stream",
     "text": [
      "  1%|          | 4/408 [00:27<47:21,  7.03s/it]"
     ]
    },
    {
     "name": "stdout",
     "output_type": "stream",
     "text": [
      "input shape torch.Size([10, 96, 370, 1226]) unique  tensor([0.]) idx  0\n",
      "input shape torch.Size([10, 96, 370, 1226]) unique  tensor([-1.8318, -1.8274, -1.8149,  ...,  2.0055,  2.0069,  2.0075]) idx  1\n"
     ]
    },
    {
     "name": "stderr",
     "output_type": "stream",
     "text": [
      "  1%|          | 5/408 [00:33<44:59,  6.70s/it]"
     ]
    },
    {
     "name": "stdout",
     "output_type": "stream",
     "text": [
      "input shape torch.Size([10, 96, 370, 1226]) unique  tensor([0.]) idx  0\n",
      "input shape torch.Size([10, 96, 370, 1226]) unique  tensor([-1.8318, -1.8274, -1.8149,  ...,  2.0041,  2.0055,  2.0069]) idx  1\n"
     ]
    },
    {
     "name": "stderr",
     "output_type": "stream",
     "text": [
      "  1%|▏         | 6/408 [00:39<43:07,  6.44s/it]"
     ]
    },
    {
     "name": "stdout",
     "output_type": "stream",
     "text": [
      "input shape torch.Size([10, 96, 370, 1226]) unique  tensor([0.]) idx  0\n",
      "input shape torch.Size([10, 96, 370, 1226]) unique  tensor([-1.8336, -1.8318, -1.8149,  ...,  2.0035,  2.0041,  2.0075]) idx  1\n"
     ]
    },
    {
     "name": "stderr",
     "output_type": "stream",
     "text": [
      "  2%|▏         | 7/408 [00:45<42:13,  6.32s/it]"
     ]
    },
    {
     "name": "stdout",
     "output_type": "stream",
     "text": [
      "input shape torch.Size([10, 96, 370, 1226]) unique  tensor([0.]) idx  0\n",
      "input shape torch.Size([10, 96, 370, 1226]) unique  tensor([-1.8336, -1.8274, -1.8149,  ...,  2.0040,  2.0041,  2.0058]) idx  1\n"
     ]
    },
    {
     "name": "stderr",
     "output_type": "stream",
     "text": [
      "  2%|▏         | 8/408 [00:52<42:43,  6.41s/it]"
     ]
    },
    {
     "name": "stdout",
     "output_type": "stream",
     "text": [
      "input shape torch.Size([10, 96, 370, 1226]) unique  tensor([0.]) idx  0\n",
      "input shape torch.Size([10, 96, 370, 1226]) unique  tensor([-1.8274, -1.8149, -1.8133,  ...,  2.0045,  2.0069,  2.0075]) idx  1\n"
     ]
    },
    {
     "name": "stderr",
     "output_type": "stream",
     "text": [
      "  2%|▏         | 9/408 [00:58<43:06,  6.48s/it]"
     ]
    },
    {
     "name": "stdout",
     "output_type": "stream",
     "text": [
      "input shape torch.Size([10, 96, 370, 1226]) unique  tensor([0.]) idx  0\n",
      "input shape torch.Size([10, 96, 370, 1226]) unique  tensor([-1.8318, -1.8274, -1.8062,  ...,  2.0040,  2.0041,  2.0042]) idx  1\n"
     ]
    },
    {
     "name": "stderr",
     "output_type": "stream",
     "text": [
      "  2%|▏         | 10/408 [01:05<44:09,  6.66s/it]"
     ]
    },
    {
     "name": "stdout",
     "output_type": "stream",
     "text": [
      "input shape torch.Size([10, 96, 370, 1226]) unique  tensor([0.]) idx  0\n",
      "input shape torch.Size([10, 96, 370, 1226]) unique  tensor([-1.8336, -1.8274, -1.8149,  ...,  2.0042,  2.0055,  2.0058]) idx  1\n"
     ]
    },
    {
     "name": "stderr",
     "output_type": "stream",
     "text": [
      "  3%|▎         | 11/408 [01:12<44:29,  6.73s/it]"
     ]
    },
    {
     "name": "stdout",
     "output_type": "stream",
     "text": [
      "input shape torch.Size([10, 96, 370, 1226]) unique  tensor([0.]) idx  0\n",
      "input shape torch.Size([10, 96, 370, 1226]) unique  tensor([-1.8354, -1.8336, -1.8149,  ...,  2.0025,  2.0035,  2.0042]) idx  1\n"
     ]
    },
    {
     "name": "stderr",
     "output_type": "stream",
     "text": [
      "  3%|▎         | 12/408 [01:19<43:53,  6.65s/it]"
     ]
    },
    {
     "name": "stdout",
     "output_type": "stream",
     "text": [
      "input shape torch.Size([10, 96, 370, 1226]) unique  tensor([0.]) idx  0\n",
      "input shape torch.Size([10, 96, 370, 1226]) unique  tensor([-1.8336, -1.8318, -1.8149,  ...,  2.0008,  2.0030,  2.0041]) idx  1\n"
     ]
    },
    {
     "name": "stderr",
     "output_type": "stream",
     "text": [
      "  3%|▎         | 13/408 [01:24<41:52,  6.36s/it]"
     ]
    },
    {
     "name": "stdout",
     "output_type": "stream",
     "text": [
      "input shape torch.Size([10, 96, 370, 1226]) unique  tensor([0.]) idx  0\n",
      "input shape torch.Size([10, 96, 370, 1226]) unique  tensor([-1.8149, -1.8062, -1.8053,  ...,  2.0040,  2.0041,  2.0058]) idx  1\n"
     ]
    },
    {
     "name": "stderr",
     "output_type": "stream",
     "text": [
      "  3%|▎         | 14/408 [01:30<41:18,  6.29s/it]"
     ]
    },
    {
     "name": "stdout",
     "output_type": "stream",
     "text": [
      "input shape torch.Size([10, 96, 370, 1226]) unique  tensor([0.]) idx  0\n",
      "input shape torch.Size([10, 96, 370, 1226]) unique  tensor([-1.8274, -1.8149, -1.8133,  ...,  2.0030,  2.0040,  2.0055]) idx  1\n"
     ]
    },
    {
     "name": "stderr",
     "output_type": "stream",
     "text": [
      "  4%|▎         | 15/408 [01:37<41:08,  6.28s/it]"
     ]
    },
    {
     "name": "stdout",
     "output_type": "stream",
     "text": [
      "input shape torch.Size([10, 96, 370, 1226]) unique  tensor([0.]) idx  0\n",
      "input shape torch.Size([10, 96, 370, 1226]) unique  tensor([-1.8336, -1.8318, -1.8149,  ...,  2.0041,  2.0058,  2.0069]) idx  1\n"
     ]
    },
    {
     "name": "stderr",
     "output_type": "stream",
     "text": [
      "  4%|▍         | 16/408 [01:43<41:19,  6.33s/it]"
     ]
    },
    {
     "name": "stdout",
     "output_type": "stream",
     "text": [
      "input shape torch.Size([10, 96, 370, 1226]) unique  tensor([0.]) idx  0\n",
      "input shape torch.Size([10, 96, 370, 1226]) unique  tensor([-1.8318, -1.8149, -1.8133,  ...,  2.0058,  2.0069,  2.0075]) idx  1\n"
     ]
    },
    {
     "name": "stderr",
     "output_type": "stream",
     "text": [
      "  4%|▍         | 17/408 [01:50<41:44,  6.41s/it]"
     ]
    },
    {
     "name": "stdout",
     "output_type": "stream",
     "text": [
      "input shape torch.Size([10, 96, 370, 1226]) unique  tensor([0.]) idx  0\n",
      "input shape torch.Size([10, 96, 370, 1226]) unique  tensor([-1.8336, -1.8318, -1.8149,  ...,  2.0035,  2.0042,  2.0058]) idx  1\n"
     ]
    },
    {
     "name": "stderr",
     "output_type": "stream",
     "text": [
      "  4%|▍         | 18/408 [01:56<40:52,  6.29s/it]"
     ]
    },
    {
     "name": "stdout",
     "output_type": "stream",
     "text": [
      "input shape torch.Size([10, 96, 370, 1226]) unique  tensor([0.]) idx  0\n",
      "input shape torch.Size([10, 96, 370, 1226]) unique  tensor([-1.8318, -1.8274, -1.8149,  ...,  2.0040,  2.0042,  2.0055]) idx  1\n"
     ]
    },
    {
     "name": "stderr",
     "output_type": "stream",
     "text": [
      "  5%|▍         | 19/408 [02:02<40:52,  6.30s/it]"
     ]
    },
    {
     "name": "stdout",
     "output_type": "stream",
     "text": [
      "input shape torch.Size([10, 96, 370, 1226]) unique  tensor([0.]) idx  0\n",
      "input shape torch.Size([10, 96, 370, 1226]) unique  tensor([-1.8336, -1.8274, -1.8149,  ...,  2.0055,  2.0058,  2.0069]) idx  1\n"
     ]
    },
    {
     "name": "stderr",
     "output_type": "stream",
     "text": [
      "  5%|▍         | 20/408 [02:09<41:19,  6.39s/it]"
     ]
    },
    {
     "name": "stdout",
     "output_type": "stream",
     "text": [
      "input shape torch.Size([10, 96, 370, 1226]) unique  tensor([0.]) idx  0\n",
      "input shape torch.Size([10, 96, 370, 1226]) unique  tensor([-1.8336, -1.8318, -1.8081,  ...,  2.0026,  2.0030,  2.0055]) idx  1\n"
     ]
    },
    {
     "name": "stderr",
     "output_type": "stream",
     "text": [
      "  5%|▌         | 21/408 [02:15<41:13,  6.39s/it]"
     ]
    },
    {
     "name": "stdout",
     "output_type": "stream",
     "text": [
      "input shape torch.Size([10, 96, 370, 1226]) unique  tensor([0.]) idx  0\n",
      "input shape torch.Size([10, 96, 370, 1226]) unique  tensor([-1.8336, -1.8318, -1.8149,  ...,  2.0040,  2.0042,  2.0045]) idx  1\n"
     ]
    },
    {
     "name": "stderr",
     "output_type": "stream",
     "text": [
      "  5%|▌         | 22/408 [02:21<40:29,  6.29s/it]"
     ]
    },
    {
     "name": "stdout",
     "output_type": "stream",
     "text": [
      "input shape torch.Size([10, 96, 370, 1226]) unique  tensor([0.]) idx  0\n",
      "input shape torch.Size([10, 96, 370, 1226]) unique  tensor([-1.8336, -1.8274, -1.8212,  ...,  2.0030,  2.0041,  2.0055]) idx  1\n"
     ]
    },
    {
     "name": "stderr",
     "output_type": "stream",
     "text": [
      "  6%|▌         | 23/408 [02:28<40:38,  6.33s/it]"
     ]
    },
    {
     "name": "stdout",
     "output_type": "stream",
     "text": [
      "input shape torch.Size([10, 96, 370, 1226]) unique  tensor([0.]) idx  0\n",
      "input shape torch.Size([10, 96, 370, 1226]) unique  tensor([-1.8318, -1.8212, -1.8149,  ...,  2.0025,  2.0030,  2.0055]) idx  1\n"
     ]
    },
    {
     "name": "stderr",
     "output_type": "stream",
     "text": [
      "  6%|▌         | 24/408 [02:33<39:32,  6.18s/it]"
     ]
    },
    {
     "name": "stdout",
     "output_type": "stream",
     "text": [
      "input shape torch.Size([10, 96, 370, 1226]) unique  tensor([0.]) idx  0\n",
      "input shape torch.Size([10, 96, 370, 1226]) unique  tensor([-1.8149, -1.8050, -1.8028,  ...,  2.0040,  2.0058,  2.0069]) idx  1\n"
     ]
    },
    {
     "name": "stderr",
     "output_type": "stream",
     "text": [
      "  6%|▌         | 25/408 [02:39<38:31,  6.03s/it]"
     ]
    },
    {
     "name": "stdout",
     "output_type": "stream",
     "text": [
      "input shape torch.Size([10, 96, 370, 1226]) unique  tensor([0.]) idx  0\n",
      "input shape torch.Size([10, 96, 370, 1226]) unique  tensor([-1.8336, -1.8318, -1.8149,  ...,  2.0035,  2.0041,  2.0075]) idx  1\n"
     ]
    },
    {
     "name": "stderr",
     "output_type": "stream",
     "text": [
      "  6%|▋         | 26/408 [02:45<37:47,  5.94s/it]"
     ]
    },
    {
     "name": "stdout",
     "output_type": "stream",
     "text": [
      "input shape torch.Size([10, 96, 370, 1226]) unique  tensor([0.]) idx  0\n",
      "input shape torch.Size([10, 96, 370, 1226]) unique  tensor([-1.8336, -1.8274, -1.8149,  ...,  2.0025,  2.0042,  2.0055]) idx  1\n"
     ]
    },
    {
     "name": "stderr",
     "output_type": "stream",
     "text": [
      "  7%|▋         | 27/408 [02:51<37:34,  5.92s/it]"
     ]
    },
    {
     "name": "stdout",
     "output_type": "stream",
     "text": [
      "input shape torch.Size([10, 96, 370, 1226]) unique  tensor([0.]) idx  0\n",
      "input shape torch.Size([10, 96, 370, 1226]) unique  tensor([-1.8318, -1.8050, -1.8043,  ...,  2.0042,  2.0045,  2.0058]) idx  1\n"
     ]
    },
    {
     "name": "stderr",
     "output_type": "stream",
     "text": [
      "  7%|▋         | 28/408 [02:56<35:56,  5.68s/it]"
     ]
    },
    {
     "name": "stdout",
     "output_type": "stream",
     "text": [
      "input shape torch.Size([10, 96, 370, 1226]) unique  tensor([0.]) idx  0\n",
      "input shape torch.Size([10, 96, 370, 1226]) unique  tensor([-1.8336, -1.8318, -1.8274,  ...,  2.0040,  2.0045,  2.0058]) idx  1\n"
     ]
    },
    {
     "name": "stderr",
     "output_type": "stream",
     "text": [
      "  7%|▋         | 29/408 [03:02<36:13,  5.73s/it]"
     ]
    },
    {
     "name": "stdout",
     "output_type": "stream",
     "text": [
      "input shape torch.Size([10, 96, 370, 1226]) unique  tensor([0.]) idx  0\n",
      "input shape torch.Size([10, 96, 370, 1226]) unique  tensor([-1.8336, -1.8274, -1.8149,  ...,  2.0041,  2.0042,  2.0075]) idx  1\n"
     ]
    },
    {
     "name": "stderr",
     "output_type": "stream",
     "text": [
      "  7%|▋         | 30/408 [03:08<36:31,  5.80s/it]"
     ]
    },
    {
     "name": "stdout",
     "output_type": "stream",
     "text": [
      "input shape torch.Size([10, 96, 370, 1226]) unique  tensor([0.]) idx  0\n",
      "input shape torch.Size([10, 96, 370, 1226]) unique  tensor([-1.8274, -1.8133, -1.8062,  ...,  2.0025,  2.0035,  2.0055]) idx  1\n"
     ]
    },
    {
     "name": "stderr",
     "output_type": "stream",
     "text": [
      "  8%|▊         | 31/408 [03:13<36:18,  5.78s/it]"
     ]
    },
    {
     "name": "stdout",
     "output_type": "stream",
     "text": [
      "input shape torch.Size([10, 96, 370, 1226]) unique  tensor([0.]) idx  0\n",
      "input shape torch.Size([10, 96, 370, 1226]) unique  tensor([-1.8336, -1.8318, -1.8149,  ...,  2.0041,  2.0042,  2.0069]) idx  1\n"
     ]
    },
    {
     "name": "stderr",
     "output_type": "stream",
     "text": [
      "  8%|▊         | 32/408 [03:19<36:03,  5.75s/it]"
     ]
    },
    {
     "name": "stdout",
     "output_type": "stream",
     "text": [
      "input shape torch.Size([10, 96, 370, 1226]) unique  tensor([0.]) idx  0\n",
      "input shape torch.Size([10, 96, 370, 1226]) unique  tensor([-1.8336, -1.8318, -1.8133,  ...,  2.0041,  2.0042,  2.0075]) idx  1\n"
     ]
    },
    {
     "name": "stderr",
     "output_type": "stream",
     "text": [
      "  8%|▊         | 33/408 [03:25<36:41,  5.87s/it]"
     ]
    },
    {
     "name": "stdout",
     "output_type": "stream",
     "text": [
      "input shape torch.Size([10, 96, 370, 1226]) unique  tensor([0.]) idx  0\n",
      "input shape torch.Size([10, 96, 370, 1226]) unique  tensor([-1.8336, -1.8274, -1.8149,  ...,  2.0026,  2.0042,  2.0055]) idx  1\n"
     ]
    },
    {
     "name": "stderr",
     "output_type": "stream",
     "text": [
      "  8%|▊         | 34/408 [03:32<38:03,  6.10s/it]"
     ]
    },
    {
     "name": "stdout",
     "output_type": "stream",
     "text": [
      "input shape torch.Size([10, 96, 370, 1226]) unique  tensor([0.]) idx  0\n",
      "input shape torch.Size([10, 96, 370, 1226]) unique  tensor([-1.8336, -1.8149, -1.8133,  ...,  2.0041,  2.0042,  2.0055]) idx  1\n"
     ]
    },
    {
     "name": "stderr",
     "output_type": "stream",
     "text": [
      "  9%|▊         | 35/408 [03:38<38:21,  6.17s/it]"
     ]
    },
    {
     "name": "stdout",
     "output_type": "stream",
     "text": [
      "input shape torch.Size([10, 96, 370, 1226]) unique  tensor([0.]) idx  0\n",
      "input shape torch.Size([10, 96, 370, 1226]) unique  tensor([-1.8318, -1.8081, -1.8043,  ...,  2.0040,  2.0055,  2.0058]) idx  1\n"
     ]
    },
    {
     "name": "stderr",
     "output_type": "stream",
     "text": [
      "  9%|▉         | 36/408 [03:46<40:44,  6.57s/it]"
     ]
    },
    {
     "name": "stdout",
     "output_type": "stream",
     "text": [
      "input shape torch.Size([10, 96, 370, 1226]) unique  tensor([0.]) idx  0\n",
      "input shape torch.Size([10, 96, 370, 1226]) unique  tensor([-1.8336, -1.8318, -1.8274,  ...,  2.0041,  2.0042,  2.0069]) idx  1\n"
     ]
    },
    {
     "name": "stderr",
     "output_type": "stream",
     "text": [
      "  9%|▉         | 37/408 [03:52<41:14,  6.67s/it]"
     ]
    },
    {
     "name": "stdout",
     "output_type": "stream",
     "text": [
      "input shape torch.Size([10, 96, 370, 1226]) unique  tensor([0.]) idx  0\n",
      "input shape torch.Size([10, 96, 370, 1226]) unique  tensor([-1.8336, -1.8318, -1.8274,  ...,  2.0040,  2.0055,  2.0069]) idx  1\n"
     ]
    },
    {
     "name": "stderr",
     "output_type": "stream",
     "text": [
      "  9%|▉         | 38/408 [03:59<41:28,  6.73s/it]"
     ]
    },
    {
     "name": "stdout",
     "output_type": "stream",
     "text": [
      "input shape torch.Size([10, 96, 370, 1226]) unique  tensor([0.]) idx  0\n",
      "input shape torch.Size([10, 96, 370, 1226]) unique  tensor([-1.8336, -1.8318, -1.8274,  ...,  2.0030,  2.0041,  2.0058]) idx  1\n"
     ]
    },
    {
     "name": "stderr",
     "output_type": "stream",
     "text": [
      " 10%|▉         | 39/408 [04:06<40:46,  6.63s/it]"
     ]
    },
    {
     "name": "stdout",
     "output_type": "stream",
     "text": [
      "input shape torch.Size([10, 96, 370, 1226]) unique  tensor([0.]) idx  0\n",
      "input shape torch.Size([10, 96, 370, 1226]) unique  tensor([-1.8336, -1.8149, -1.8062,  ...,  2.0058,  2.0069,  2.0075]) idx  1\n"
     ]
    },
    {
     "name": "stderr",
     "output_type": "stream",
     "text": [
      " 10%|▉         | 40/408 [04:13<40:58,  6.68s/it]"
     ]
    },
    {
     "name": "stdout",
     "output_type": "stream",
     "text": [
      "input shape torch.Size([10, 96, 370, 1226]) unique  tensor([0.]) idx  0\n",
      "input shape torch.Size([10, 96, 370, 1226]) unique  tensor([-1.8336, -1.8318, -1.8149,  ...,  2.0055,  2.0058,  2.0075]) idx  1\n"
     ]
    },
    {
     "name": "stderr",
     "output_type": "stream",
     "text": [
      " 10%|█         | 41/408 [04:19<40:49,  6.67s/it]"
     ]
    },
    {
     "name": "stdout",
     "output_type": "stream",
     "text": [
      "input shape torch.Size([10, 96, 370, 1226]) unique  tensor([0.]) idx  0\n",
      "input shape torch.Size([10, 96, 370, 1226]) unique  tensor([-1.8318, -1.8274, -1.8149,  ...,  2.0040,  2.0041,  2.0042]) idx  1\n"
     ]
    },
    {
     "name": "stderr",
     "output_type": "stream",
     "text": [
      " 10%|█         | 42/408 [04:26<40:22,  6.62s/it]"
     ]
    },
    {
     "name": "stdout",
     "output_type": "stream",
     "text": [
      "input shape torch.Size([10, 96, 370, 1226]) unique  tensor([0.]) idx  0\n",
      "input shape torch.Size([10, 96, 370, 1226]) unique  tensor([-1.8318, -1.8274, -1.8149,  ...,  2.0035,  2.0055,  2.0069]) idx  1\n"
     ]
    },
    {
     "name": "stderr",
     "output_type": "stream",
     "text": [
      " 11%|█         | 43/408 [04:32<39:17,  6.46s/it]"
     ]
    }
   ],
   "source": [
    "validate(cfg=cfg,\n",
    "             model=model,\n",
    "             dataloader=test_dataloader,\n",
    "             class_weights=class_weights\n",
    "             )"
   ]
  }
 ],
 "metadata": {
  "kernelspec": {
   "display_name": "Python 3",
   "language": "python",
   "name": "python3"
  },
  "language_info": {
   "codemirror_mode": {
    "name": "ipython",
    "version": 3
   },
   "file_extension": ".py",
   "mimetype": "text/x-python",
   "name": "python",
   "nbconvert_exporter": "python",
   "pygments_lexer": "ipython3",
   "version": "3.8.5"
  }
 },
 "nbformat": 4,
 "nbformat_minor": 5
}
