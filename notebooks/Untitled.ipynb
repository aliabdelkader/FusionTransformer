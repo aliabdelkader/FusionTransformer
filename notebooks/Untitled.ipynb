{
 "cells": [
  {
   "cell_type": "code",
   "execution_count": 27,
   "id": "bf77b80f-13d3-4b11-abae-10651b1e3c69",
   "metadata": {},
   "outputs": [],
   "source": [
    "import numpy as np"
   ]
  },
  {
   "cell_type": "code",
   "execution_count": 28,
   "id": "f189fd25-230e-474d-b199-96d4ab2dfa30",
   "metadata": {},
   "outputs": [],
   "source": [
    "r = np.arange(0, 150, 0.05).astype(np.float32)"
   ]
  },
  {
   "cell_type": "code",
   "execution_count": 29,
   "id": "066755fa-a4e5-42de-959d-ce3102a83da8",
   "metadata": {},
   "outputs": [],
   "source": [
    "theta_deg =np.arange(-45, 45, 0.08).astype(np.float32)\n",
    "phi_deg = np.arange(-3, 22.4, 0.4).astype(np.float32)"
   ]
  },
  {
   "cell_type": "code",
   "execution_count": 30,
   "id": "2a9872e3-2a5e-4e3b-a981-e47601899bd7",
   "metadata": {},
   "outputs": [],
   "source": [
    "# theta = np.deg2rad(theta_deg).astype(np.float32)\n",
    "# phi = np.deg2rad(phi_deg).astype(np.float32)"
   ]
  },
  {
   "cell_type": "code",
   "execution_count": 36,
   "id": "2bf25170-ccce-4876-a79c-9999bdc1b6a9",
   "metadata": {},
   "outputs": [],
   "source": [
    "new_array = np.array(np.meshgrid(r, theta_deg, phi_deg)).T.reshape(-1,3)"
   ]
  },
  {
   "cell_type": "code",
   "execution_count": 37,
   "id": "40782f40-4c84-4f5f-b12b-10d3c71a9625",
   "metadata": {},
   "outputs": [],
   "source": [
    "r, theta_deg, phi_deg = new_array[:, 0], new_array[:, 1], new_array[:, 2]"
   ]
  },
  {
   "cell_type": "code",
   "execution_count": 38,
   "id": "3bde8f38-cacd-4d06-8162-44c1804f30cd",
   "metadata": {},
   "outputs": [],
   "source": [
    "theta = np.deg2rad(theta_deg).astype(np.float32)\n",
    "phi = np.deg2rad(phi_deg).astype(np.float32)"
   ]
  },
  {
   "cell_type": "code",
   "execution_count": 39,
   "id": "4a36c83d-e63b-4dac-9955-25a7dd31a6c0",
   "metadata": {},
   "outputs": [],
   "source": [
    "x = r * np.cos(phi) * np.sin(theta)\n",
    "y = r * np.sin(phi) * np.sin(theta)\n",
    "z = r * np.cos(theta) "
   ]
  },
  {
   "cell_type": "code",
   "execution_count": 40,
   "id": "6c2f7413-0c80-4ede-81be-cd3fe5cc4f73",
   "metadata": {},
   "outputs": [],
   "source": [
    "points = np.concatenate([x.reshape(-1, 1), y.reshape(-1, 1), z.reshape(-1, 1)], axis=1)"
   ]
  },
  {
   "cell_type": "code",
   "execution_count": 41,
   "id": "5dfbe16e-55ef-45e8-9505-cb44e0c6c49f",
   "metadata": {},
   "outputs": [],
   "source": [
    "labels = [\n",
    "  0,\n",
    "  1,\n",
    "  10,\n",
    "  11,\n",
    "  13,\n",
    "  15,\n",
    "  16,\n",
    "  18,\n",
    "  20,\n",
    "  30,\n",
    "  31,\n",
    "  32,\n",
    "  40,\n",
    "  44,\n",
    "  48,\n",
    "  49,\n",
    "  50,\n",
    "  51,\n",
    "  52,\n",
    "  60,\n",
    "  70,\n",
    "  71,\n",
    "  72,\n",
    "  80,\n",
    "  81,\n",
    "  99,\n",
    "  252,\n",
    "  253,\n",
    "  254,\n",
    "  255,\n",
    "  256,\n",
    "  257,\n",
    "  258,\n",
    "  259\n",
    "]\n",
    "labels = np.random.choice(labels, size=(points.shape[0], 1)).astype(np.uint16)"
   ]
  },
  {
   "cell_type": "code",
   "execution_count": 42,
   "id": "b7148c63-62d6-459a-a508-834f842d6f3b",
   "metadata": {},
   "outputs": [
    {
     "data": {
      "text/plain": [
       "array([  0,   1,  10,  11,  13,  15,  16,  18,  20,  30,  31,  32,  40,\n",
       "        44,  48,  49,  50,  51,  52,  60,  70,  71,  72,  80,  81,  99,\n",
       "       252, 253, 254, 255, 256, 257, 258, 259], dtype=uint16)"
      ]
     },
     "execution_count": 42,
     "metadata": {},
     "output_type": "execute_result"
    }
   ],
   "source": [
    "np.unique(labels)"
   ]
  },
  {
   "cell_type": "code",
   "execution_count": 43,
   "id": "d1d2822a-e563-4695-8e46-070964d492d5",
   "metadata": {},
   "outputs": [],
   "source": [
    "feats = np.concatenate([r.reshape(-1, 1), theta_deg.reshape(-1, 1), phi_deg.reshape(-1, 1)], axis=1)"
   ]
  },
  {
   "cell_type": "code",
   "execution_count": 49,
   "id": "1f286305-d494-4d97-9e7d-4b2f6b1c1eb2",
   "metadata": {},
   "outputs": [
    {
     "name": "stdout",
     "output_type": "stream",
     "text": [
      "[[  0.   -45.    -3.  ]\n",
      " [  0.   -44.92  -3.  ]\n",
      " [  0.   -44.84  -3.  ]\n",
      " ...\n",
      " [149.95  44.76  22.2 ]\n",
      " [149.95  44.84  22.2 ]\n",
      " [149.95  44.92  22.2 ]]\n"
     ]
    }
   ],
   "source": [
    "print(feats)"
   ]
  },
  {
   "cell_type": "code",
   "execution_count": 44,
   "id": "51de4d6e-092e-4810-91c1-c1e286829017",
   "metadata": {},
   "outputs": [],
   "source": [
    "points_img = np.concatenate([\n",
    "    np.random.randint(0, 1226, size=(points.shape[0], 1), dtype=np.uint16),\n",
    "    np.random.randint(0, 370, size=(points.shape[0], 1), dtype=np.uint16),\n",
    "], axis=1)"
   ]
  },
  {
   "cell_type": "code",
   "execution_count": 45,
   "id": "bfc43c9b-796b-49ac-9805-227c8bd7a8bb",
   "metadata": {},
   "outputs": [],
   "source": [
    "scan_data = {\n",
    "    'points': points,\n",
    "    'feats':  feats,\n",
    "    'seg_labels': labels,\n",
    "    'points_img': points_img,  # row, col format, shape: (num_points, 2)\n",
    "    'lidar_path': \"\",\n",
    "    'camera_path': \"dataset/sequences/08/image_2/000000.png\",\n",
    "    'image_size': (1226, 370)\n",
    "}"
   ]
  },
  {
   "cell_type": "code",
   "execution_count": 46,
   "id": "ffd5eb4c-2532-4572-b31d-5c1e9b0a4128",
   "metadata": {},
   "outputs": [],
   "source": [
    "import pickle"
   ]
  },
  {
   "cell_type": "code",
   "execution_count": 47,
   "id": "21c08734-07fd-4e5c-9048-31cbf3fcbebd",
   "metadata": {},
   "outputs": [],
   "source": [
    "import shutil"
   ]
  },
  {
   "cell_type": "code",
   "execution_count": 48,
   "id": "df5bdd88-e5c1-4f5e-9021-42557791564c",
   "metadata": {},
   "outputs": [
    {
     "name": "stdout",
     "output_type": "stream",
     "text": [
      "/home/user/SemanticKitti/debug/08/debug_0.pkl\n",
      "/home/user/SemanticKitti/debug/08/debug_1.pkl\n",
      "/home/user/SemanticKitti/debug/08/debug_2.pkl\n",
      "/home/user/SemanticKitti/debug/08/debug_3.pkl\n",
      "/home/user/SemanticKitti/debug/08/debug_4.pkl\n",
      "/home/user/SemanticKitti/debug/08/debug_5.pkl\n",
      "/home/user/SemanticKitti/debug/08/debug_6.pkl\n",
      "/home/user/SemanticKitti/debug/08/debug_7.pkl\n",
      "/home/user/SemanticKitti/debug/08/debug_8.pkl\n",
      "/home/user/SemanticKitti/debug/08/debug_9.pkl\n"
     ]
    }
   ],
   "source": [
    "for i in range(10):\n",
    "    file_ = f\"/home/user/SemanticKitti/debug/08/debug_{i}.pkl\"\n",
    "    print(file_)\n",
    "    scan_data[\"camera_path\"] = f\"dataset/sequences/08/image_2/00000{i}.png\"\n",
    "    gg =  f\"/home/user/SemanticKitti/debug/08/debug_{i}.pkl\"\n",
    "    with open(file_, \"wb\") as o:\n",
    "         pickle.dump(scan_data, o)"
   ]
  },
  {
   "cell_type": "code",
   "execution_count": null,
   "id": "2bebb4b7-f227-4bea-b7d3-c79265d7a84b",
   "metadata": {},
   "outputs": [],
   "source": [
    "!mkdir /home/user/SemanticKitti/debug/"
   ]
  },
  {
   "cell_type": "code",
   "execution_count": null,
   "id": "309e7751-f9cf-4ee0-804d-ededb727bae3",
   "metadata": {},
   "outputs": [],
   "source": [
    "!mv debug.pkl /home/user/SemanticKitti/debug/00"
   ]
  }
 ],
 "metadata": {
  "kernelspec": {
   "display_name": "Python 3 (ipykernel)",
   "language": "python",
   "name": "python3"
  },
  "language_info": {
   "codemirror_mode": {
    "name": "ipython",
    "version": 3
   },
   "file_extension": ".py",
   "mimetype": "text/x-python",
   "name": "python",
   "nbconvert_exporter": "python",
   "pygments_lexer": "ipython3",
   "version": "3.8.5"
  }
 },
 "nbformat": 4,
 "nbformat_minor": 5
}
